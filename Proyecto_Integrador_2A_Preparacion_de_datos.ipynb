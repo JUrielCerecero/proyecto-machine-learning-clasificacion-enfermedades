{
  "cells": [
    {
      "cell_type": "markdown",
      "metadata": {
        "id": "4WaoEOp0KkSp"
      },
      "source": [
        "![HenryLogo](https://d31uz8lwfmyn8g.cloudfront.net/Assets/logo-henry-white-lg.png)\n",
        "\n",
        "# **Proyecto integrador**\n",
        "\n",
        "### 2. Preparación de datos\n",
        "\n",
        "Una vez entendido el contexto de la problemática y realizado el análisis exploratorio de datos de acuerdo con la descripción del dataset y la información entregada al equipo en la fase anterior, se comparte un paso a paso que deberá ser diligenciado por el equipo de ciencia de datos asignado para esta tarea con el fin de guiar el proceso de EDA y preparación de datos, lo cual es crucial antes de desarollar el modelamiento. \n",
        "\n",
        "El estudio tiene como objetivo la clasificación de un paciente como hospitalizado o no hospitalizado.\n",
        "\n",
        "\n"
      ]
    },
    {
      "cell_type": "markdown",
      "metadata": {
        "id": "E22GkymtLevx"
      },
      "source": [
        "Carguen la base de datos y revisen el tipo de cada columna del dataset. Si es necesario realicen conversiones de tipos de datos. "
      ]
    },
    {
      "cell_type": "code",
      "execution_count": 1,
      "metadata": {},
      "outputs": [],
      "source": [
        "import pandas as pd"
      ]
    },
    {
      "cell_type": "code",
      "execution_count": 20,
      "metadata": {
        "id": "dlRCMYtGLqDJ"
      },
      "outputs": [
        {
          "name": "stderr",
          "output_type": "stream",
          "text": [
            "c:\\Users\\p2_ge\\AppData\\Local\\Programs\\Python\\Python311\\Lib\\site-packages\\openpyxl\\worksheet\\_reader.py:329: UserWarning: Unknown extension is not supported and will be removed\n",
            "  warn(msg)\n"
          ]
        }
      ],
      "source": [
        "dfhosp=pd.read_excel(r'C:\\Users\\p2_ge\\Documents\\bootcamp\\M6\\Proyecto Integrador\\Propuesta 1\\proyecto-machine-learning-clasificacion-enfermedades\\BBDD_Hospitalización.xlsx')"
      ]
    },
    {
      "cell_type": "code",
      "execution_count": 29,
      "metadata": {},
      "outputs": [
        {
          "data": {
            "text/html": [
              "<div>\n",
              "<style scoped>\n",
              "    .dataframe tbody tr th:only-of-type {\n",
              "        vertical-align: middle;\n",
              "    }\n",
              "\n",
              "    .dataframe tbody tr th {\n",
              "        vertical-align: top;\n",
              "    }\n",
              "\n",
              "    .dataframe thead th {\n",
              "        text-align: right;\n",
              "    }\n",
              "</style>\n",
              "<table border=\"1\" class=\"dataframe\">\n",
              "  <thead>\n",
              "    <tr style=\"text-align: right;\">\n",
              "      <th></th>\n",
              "      <th>EDAD</th>\n",
              "      <th>DIABETES</th>\n",
              "      <th>HOSPITALIZACIÓN ULTIMO MES</th>\n",
              "      <th>PSA</th>\n",
              "      <th>BIOPSIAS PREVIAS</th>\n",
              "      <th>VOLUMEN PROSTATICO</th>\n",
              "      <th>ANTIBIOTICO UTILIAZADO EN LA PROFILAXIS</th>\n",
              "      <th>NUMERO DE MUESTRAS TOMADAS</th>\n",
              "      <th>CUP</th>\n",
              "      <th>ENF. CRONICA PULMONAR OBSTRUCTIVA</th>\n",
              "      <th>BIOPSIA</th>\n",
              "      <th>NUMERO DE DIAS POST BIOPSIA EN QUE SE PRESENTA LA COMPLICACIÓN INFECCIOSA</th>\n",
              "      <th>FIEBRE</th>\n",
              "      <th>ITU</th>\n",
              "      <th>TIPO DE CULTIVO</th>\n",
              "      <th>AGENTE AISLADO</th>\n",
              "      <th>PATRON DE RESISTENCIA</th>\n",
              "      <th>HOSPITALIZACION</th>\n",
              "      <th>DIAS HOSPITALIZACION MQ</th>\n",
              "      <th>DIAS HOSPITALIZACIÓN UPC</th>\n",
              "    </tr>\n",
              "  </thead>\n",
              "  <tbody>\n",
              "    <tr>\n",
              "      <th>0</th>\n",
              "      <td>53.0</td>\n",
              "      <td>NO</td>\n",
              "      <td>NO</td>\n",
              "      <td>4.0</td>\n",
              "      <td>NO</td>\n",
              "      <td>SI</td>\n",
              "      <td>FLUOROQUINOLONA_AMINOGLICOSIDO</td>\n",
              "      <td>12.0</td>\n",
              "      <td>NO</td>\n",
              "      <td>NO</td>\n",
              "      <td>NEG</td>\n",
              "      <td>1</td>\n",
              "      <td>SI</td>\n",
              "      <td>NO</td>\n",
              "      <td>NO</td>\n",
              "      <td>NO</td>\n",
              "      <td>NO</td>\n",
              "      <td>SI</td>\n",
              "      <td>2.0</td>\n",
              "      <td>0.0</td>\n",
              "    </tr>\n",
              "    <tr>\n",
              "      <th>1</th>\n",
              "      <td>56.0</td>\n",
              "      <td>NO</td>\n",
              "      <td>NO</td>\n",
              "      <td>7.7</td>\n",
              "      <td>NO</td>\n",
              "      <td>SI</td>\n",
              "      <td>FLUOROQUINOLONA_AMINOGLICOSIDO</td>\n",
              "      <td>12.0</td>\n",
              "      <td>NO</td>\n",
              "      <td>NO</td>\n",
              "      <td>NEG</td>\n",
              "      <td>1</td>\n",
              "      <td>SI</td>\n",
              "      <td>NO</td>\n",
              "      <td>NO</td>\n",
              "      <td>NO</td>\n",
              "      <td>NO</td>\n",
              "      <td>SI</td>\n",
              "      <td>5.0</td>\n",
              "      <td>0.0</td>\n",
              "    </tr>\n",
              "    <tr>\n",
              "      <th>2</th>\n",
              "      <td>57.0</td>\n",
              "      <td>NO</td>\n",
              "      <td>NO</td>\n",
              "      <td>29.0</td>\n",
              "      <td>SI</td>\n",
              "      <td>SI</td>\n",
              "      <td>FLUOROQUINOLONA_AMINOGLICOSIDO</td>\n",
              "      <td>24.0</td>\n",
              "      <td>NO</td>\n",
              "      <td>NO</td>\n",
              "      <td>NEG</td>\n",
              "      <td>1</td>\n",
              "      <td>SI</td>\n",
              "      <td>NO</td>\n",
              "      <td>HEMOCULTIVO</td>\n",
              "      <td>E.COLI</td>\n",
              "      <td>AMPI R, CIPRO R, GENTA R, SULFA M R</td>\n",
              "      <td>SI</td>\n",
              "      <td>4.0</td>\n",
              "      <td>3.0</td>\n",
              "    </tr>\n",
              "    <tr>\n",
              "      <th>3</th>\n",
              "      <td>56.0</td>\n",
              "      <td>NO</td>\n",
              "      <td>NO</td>\n",
              "      <td>7.0</td>\n",
              "      <td>NO</td>\n",
              "      <td>SI</td>\n",
              "      <td>FLUOROQUINOLONA_AMINOGLICOSIDO</td>\n",
              "      <td>12.0</td>\n",
              "      <td>NO</td>\n",
              "      <td>NO</td>\n",
              "      <td>NEG</td>\n",
              "      <td>1</td>\n",
              "      <td>SI</td>\n",
              "      <td>NO</td>\n",
              "      <td>NO</td>\n",
              "      <td>NO</td>\n",
              "      <td>NO</td>\n",
              "      <td>SI</td>\n",
              "      <td>5.0</td>\n",
              "      <td>0.0</td>\n",
              "    </tr>\n",
              "    <tr>\n",
              "      <th>4</th>\n",
              "      <td>55.0</td>\n",
              "      <td>NO</td>\n",
              "      <td>NO</td>\n",
              "      <td>29.0</td>\n",
              "      <td>SI</td>\n",
              "      <td>SI</td>\n",
              "      <td>FLUOROQUINOLONA_AMINOGLICOSIDO</td>\n",
              "      <td>24.0</td>\n",
              "      <td>NO</td>\n",
              "      <td>NO</td>\n",
              "      <td>NEG</td>\n",
              "      <td>1</td>\n",
              "      <td>SI</td>\n",
              "      <td>NO</td>\n",
              "      <td>HEMOCULTIVO</td>\n",
              "      <td>E.COLI</td>\n",
              "      <td>NO</td>\n",
              "      <td>SI</td>\n",
              "      <td>4.0</td>\n",
              "      <td>3.0</td>\n",
              "    </tr>\n",
              "  </tbody>\n",
              "</table>\n",
              "</div>"
            ],
            "text/plain": [
              "   EDAD DIABETES HOSPITALIZACIÓN ULTIMO MES   PSA BIOPSIAS PREVIAS  \\\n",
              "0  53.0       NO                         NO   4.0               NO   \n",
              "1  56.0       NO                         NO   7.7               NO   \n",
              "2  57.0       NO                         NO  29.0               SI   \n",
              "3  56.0       NO                         NO   7.0               NO   \n",
              "4  55.0       NO                         NO  29.0               SI   \n",
              "\n",
              "  VOLUMEN PROSTATICO ANTIBIOTICO UTILIAZADO EN LA PROFILAXIS  \\\n",
              "0                 SI          FLUOROQUINOLONA_AMINOGLICOSIDO   \n",
              "1                 SI          FLUOROQUINOLONA_AMINOGLICOSIDO   \n",
              "2                 SI          FLUOROQUINOLONA_AMINOGLICOSIDO   \n",
              "3                 SI          FLUOROQUINOLONA_AMINOGLICOSIDO   \n",
              "4                 SI          FLUOROQUINOLONA_AMINOGLICOSIDO   \n",
              "\n",
              "   NUMERO DE MUESTRAS TOMADAS CUP ENF. CRONICA PULMONAR OBSTRUCTIVA BIOPSIA  \\\n",
              "0                        12.0  NO                                NO     NEG   \n",
              "1                        12.0  NO                                NO     NEG   \n",
              "2                        24.0  NO                                NO     NEG   \n",
              "3                        12.0  NO                                NO     NEG   \n",
              "4                        24.0  NO                                NO     NEG   \n",
              "\n",
              "  NUMERO DE DIAS POST BIOPSIA EN QUE SE PRESENTA LA COMPLICACIÓN INFECCIOSA  \\\n",
              "0                                                  1                          \n",
              "1                                                  1                          \n",
              "2                                                  1                          \n",
              "3                                                  1                          \n",
              "4                                                  1                          \n",
              "\n",
              "  FIEBRE ITU TIPO DE CULTIVO AGENTE AISLADO  \\\n",
              "0     SI  NO              NO             NO   \n",
              "1     SI  NO              NO             NO   \n",
              "2     SI  NO     HEMOCULTIVO         E.COLI   \n",
              "3     SI  NO              NO             NO   \n",
              "4     SI  NO     HEMOCULTIVO         E.COLI   \n",
              "\n",
              "                  PATRON DE RESISTENCIA HOSPITALIZACION  \\\n",
              "0                                    NO              SI   \n",
              "1                                    NO              SI   \n",
              "2   AMPI R, CIPRO R, GENTA R, SULFA M R              SI   \n",
              "3                                    NO              SI   \n",
              "4                                    NO              SI   \n",
              "\n",
              "   DIAS HOSPITALIZACION MQ  DIAS HOSPITALIZACIÓN UPC  \n",
              "0                      2.0                       0.0  \n",
              "1                      5.0                       0.0  \n",
              "2                      4.0                       3.0  \n",
              "3                      5.0                       0.0  \n",
              "4                      4.0                       3.0  "
            ]
          },
          "execution_count": 29,
          "metadata": {},
          "output_type": "execute_result"
        }
      ],
      "source": [
        "dfhosp.head()"
      ]
    },
    {
      "cell_type": "code",
      "execution_count": 79,
      "metadata": {},
      "outputs": [
        {
          "name": "stdout",
          "output_type": "stream",
          "text": [
            "<class 'pandas.core.frame.DataFrame'>\n",
            "RangeIndex: 570 entries, 0 to 569\n",
            "Data columns (total 20 columns):\n",
            " #   Column                                                                     Non-Null Count  Dtype  \n",
            "---  ------                                                                     --------------  -----  \n",
            " 0   EDAD                                                                       568 non-null    float64\n",
            " 1   DIABETES                                                                   568 non-null    object \n",
            " 2   HOSPITALIZACIÓN ULTIMO MES                                                 568 non-null    object \n",
            " 3   PSA                                                                        564 non-null    float64\n",
            " 4   BIOPSIAS PREVIAS                                                           566 non-null    object \n",
            " 5   VOLUMEN PROSTATICO                                                         567 non-null    object \n",
            " 6   ANTIBIOTICO UTILIAZADO EN LA PROFILAXIS                                    568 non-null    object \n",
            " 7   NUMERO DE MUESTRAS TOMADAS                                                 568 non-null    float64\n",
            " 8   CUP                                                                        567 non-null    object \n",
            " 9   ENF. CRONICA PULMONAR OBSTRUCTIVA                                          566 non-null    object \n",
            " 10  BIOPSIA                                                                    568 non-null    object \n",
            " 11  NUMERO DE DIAS POST BIOPSIA EN QUE SE PRESENTA LA COMPLICACIÓN INFECCIOSA  568 non-null    object \n",
            " 12  FIEBRE                                                                     568 non-null    object \n",
            " 13  ITU                                                                        568 non-null    object \n",
            " 14  TIPO DE CULTIVO                                                            568 non-null    object \n",
            " 15  AGENTE AISLADO                                                             551 non-null    object \n",
            " 16  PATRON DE RESISTENCIA                                                      568 non-null    object \n",
            " 17  HOSPITALIZACION                                                            565 non-null    object \n",
            " 18  DIAS HOSPITALIZACION MQ                                                    568 non-null    float64\n",
            " 19  DIAS HOSPITALIZACIÓN UPC                                                   568 non-null    float64\n",
            "dtypes: float64(5), object(15)\n",
            "memory usage: 89.2+ KB\n"
          ]
        }
      ],
      "source": [
        "dfhosp.info()"
      ]
    },
    {
      "cell_type": "markdown",
      "metadata": {
        "id": "X33Od3Y_Lrye"
      },
      "source": [
        "Eliminen variables si es que consideran irrelevantes, sustentando adecuadamente por qué."
      ]
    },
    {
      "cell_type": "code",
      "execution_count": 26,
      "metadata": {
        "id": "Zjq3g_zkMUT5"
      },
      "outputs": [
        {
          "data": {
            "text/html": [
              "<div>\n",
              "<style scoped>\n",
              "    .dataframe tbody tr th:only-of-type {\n",
              "        vertical-align: middle;\n",
              "    }\n",
              "\n",
              "    .dataframe tbody tr th {\n",
              "        vertical-align: top;\n",
              "    }\n",
              "\n",
              "    .dataframe thead th {\n",
              "        text-align: right;\n",
              "    }\n",
              "</style>\n",
              "<table border=\"1\" class=\"dataframe\">\n",
              "  <thead>\n",
              "    <tr style=\"text-align: right;\">\n",
              "      <th></th>\n",
              "      <th>EDAD</th>\n",
              "      <th>DIABETES</th>\n",
              "      <th>HOSPITALIZACIÓN ULTIMO MES</th>\n",
              "      <th>PSA</th>\n",
              "      <th>BIOPSIAS PREVIAS</th>\n",
              "      <th>VOLUMEN PROSTATICO</th>\n",
              "      <th>ANTIBIOTICO UTILIAZADO EN LA PROFILAXIS</th>\n",
              "      <th>NUMERO DE MUESTRAS TOMADAS</th>\n",
              "      <th>CUP</th>\n",
              "      <th>ENF. CRONICA PULMONAR OBSTRUCTIVA</th>\n",
              "      <th>BIOPSIA</th>\n",
              "      <th>NUMERO DE DIAS POST BIOPSIA EN QUE SE PRESENTA LA COMPLICACIÓN INFECCIOSA</th>\n",
              "      <th>FIEBRE</th>\n",
              "      <th>ITU</th>\n",
              "      <th>TIPO DE CULTIVO</th>\n",
              "      <th>AGENTE AISLADO</th>\n",
              "      <th>PATRON DE RESISTENCIA</th>\n",
              "      <th>HOSPITALIZACION</th>\n",
              "      <th>DIAS HOSPITALIZACION MQ</th>\n",
              "      <th>DIAS HOSPITALIZACIÓN UPC</th>\n",
              "    </tr>\n",
              "  </thead>\n",
              "  <tbody>\n",
              "    <tr>\n",
              "      <th>31</th>\n",
              "      <td>63.0</td>\n",
              "      <td>NO</td>\n",
              "      <td>NO</td>\n",
              "      <td>10.8</td>\n",
              "      <td>NO</td>\n",
              "      <td>NO</td>\n",
              "      <td>FLUOROQUINOLONA_AMINOGLICÓSIDO</td>\n",
              "      <td>12.0</td>\n",
              "      <td>NO</td>\n",
              "      <td>SI, ASMA</td>\n",
              "      <td>ADENOCARCINOMA GLEASON 7</td>\n",
              "      <td>NO</td>\n",
              "      <td>NO</td>\n",
              "      <td>NO</td>\n",
              "      <td>NO</td>\n",
              "      <td>NO</td>\n",
              "      <td>NO</td>\n",
              "      <td>NaN</td>\n",
              "      <td>0.0</td>\n",
              "      <td>0.0</td>\n",
              "    </tr>\n",
              "    <tr>\n",
              "      <th>100</th>\n",
              "      <td>74.0</td>\n",
              "      <td>NO</td>\n",
              "      <td>NO</td>\n",
              "      <td>5.8</td>\n",
              "      <td>NO</td>\n",
              "      <td>NO</td>\n",
              "      <td>FLUOROQUINOLONA_AMINOGLICOSIDO</td>\n",
              "      <td>12.0</td>\n",
              "      <td>NO</td>\n",
              "      <td>NO</td>\n",
              "      <td>ADENOCARCINOMA GLEASON 7</td>\n",
              "      <td>NO</td>\n",
              "      <td>NO</td>\n",
              "      <td>NO</td>\n",
              "      <td>NO</td>\n",
              "      <td>NO</td>\n",
              "      <td>NO</td>\n",
              "      <td>NaN</td>\n",
              "      <td>0.0</td>\n",
              "      <td>0.0</td>\n",
              "    </tr>\n",
              "    <tr>\n",
              "      <th>109</th>\n",
              "      <td>61.0</td>\n",
              "      <td>NO</td>\n",
              "      <td>NO</td>\n",
              "      <td>7.0</td>\n",
              "      <td>NO</td>\n",
              "      <td>NO</td>\n",
              "      <td>FLUOROQUINOLONA_AMINOGLICOSIDO</td>\n",
              "      <td>12.0</td>\n",
              "      <td>NO</td>\n",
              "      <td>NO</td>\n",
              "      <td>NEG</td>\n",
              "      <td>NO</td>\n",
              "      <td>NO</td>\n",
              "      <td>NO</td>\n",
              "      <td>NO</td>\n",
              "      <td>NO</td>\n",
              "      <td>NO</td>\n",
              "      <td>NaN</td>\n",
              "      <td>0.0</td>\n",
              "      <td>0.0</td>\n",
              "    </tr>\n",
              "    <tr>\n",
              "      <th>568</th>\n",
              "      <td>NaN</td>\n",
              "      <td>NaN</td>\n",
              "      <td>NaN</td>\n",
              "      <td>NaN</td>\n",
              "      <td>NaN</td>\n",
              "      <td>NaN</td>\n",
              "      <td>NaN</td>\n",
              "      <td>NaN</td>\n",
              "      <td>NaN</td>\n",
              "      <td>NaN</td>\n",
              "      <td>NaN</td>\n",
              "      <td>NaN</td>\n",
              "      <td>NaN</td>\n",
              "      <td>NaN</td>\n",
              "      <td>NaN</td>\n",
              "      <td>NaN</td>\n",
              "      <td>NaN</td>\n",
              "      <td>NaN</td>\n",
              "      <td>NaN</td>\n",
              "      <td>NaN</td>\n",
              "    </tr>\n",
              "    <tr>\n",
              "      <th>569</th>\n",
              "      <td>NaN</td>\n",
              "      <td>NaN</td>\n",
              "      <td>NaN</td>\n",
              "      <td>NaN</td>\n",
              "      <td>NaN</td>\n",
              "      <td>NaN</td>\n",
              "      <td>NaN</td>\n",
              "      <td>NaN</td>\n",
              "      <td>NaN</td>\n",
              "      <td>NaN</td>\n",
              "      <td>NaN</td>\n",
              "      <td>NaN</td>\n",
              "      <td>NaN</td>\n",
              "      <td>NaN</td>\n",
              "      <td>NaN</td>\n",
              "      <td>NaN</td>\n",
              "      <td>NaN</td>\n",
              "      <td>NaN</td>\n",
              "      <td>NaN</td>\n",
              "      <td>NaN</td>\n",
              "    </tr>\n",
              "  </tbody>\n",
              "</table>\n",
              "</div>"
            ],
            "text/plain": [
              "     EDAD DIABETES HOSPITALIZACIÓN ULTIMO MES   PSA BIOPSIAS PREVIAS  \\\n",
              "31   63.0       NO                         NO  10.8               NO   \n",
              "100  74.0       NO                         NO   5.8               NO   \n",
              "109  61.0       NO                         NO   7.0               NO   \n",
              "568   NaN      NaN                        NaN   NaN              NaN   \n",
              "569   NaN      NaN                        NaN   NaN              NaN   \n",
              "\n",
              "    VOLUMEN PROSTATICO ANTIBIOTICO UTILIAZADO EN LA PROFILAXIS  \\\n",
              "31                  NO          FLUOROQUINOLONA_AMINOGLICÓSIDO   \n",
              "100                 NO          FLUOROQUINOLONA_AMINOGLICOSIDO   \n",
              "109                 NO          FLUOROQUINOLONA_AMINOGLICOSIDO   \n",
              "568                NaN                                     NaN   \n",
              "569                NaN                                     NaN   \n",
              "\n",
              "     NUMERO DE MUESTRAS TOMADAS  CUP ENF. CRONICA PULMONAR OBSTRUCTIVA  \\\n",
              "31                         12.0   NO                          SI, ASMA   \n",
              "100                        12.0   NO                                NO   \n",
              "109                        12.0   NO                                NO   \n",
              "568                         NaN  NaN                               NaN   \n",
              "569                         NaN  NaN                               NaN   \n",
              "\n",
              "                       BIOPSIA  \\\n",
              "31   ADENOCARCINOMA GLEASON 7    \n",
              "100  ADENOCARCINOMA GLEASON 7    \n",
              "109                        NEG   \n",
              "568                        NaN   \n",
              "569                        NaN   \n",
              "\n",
              "    NUMERO DE DIAS POST BIOPSIA EN QUE SE PRESENTA LA COMPLICACIÓN INFECCIOSA  \\\n",
              "31                                                  NO                          \n",
              "100                                                 NO                          \n",
              "109                                                 NO                          \n",
              "568                                                NaN                          \n",
              "569                                                NaN                          \n",
              "\n",
              "    FIEBRE  ITU TIPO DE CULTIVO AGENTE AISLADO PATRON DE RESISTENCIA  \\\n",
              "31      NO   NO              NO             NO                    NO   \n",
              "100     NO   NO              NO             NO                    NO   \n",
              "109     NO   NO              NO             NO                    NO   \n",
              "568    NaN  NaN             NaN            NaN                   NaN   \n",
              "569    NaN  NaN             NaN            NaN                   NaN   \n",
              "\n",
              "    HOSPITALIZACION  DIAS HOSPITALIZACION MQ  DIAS HOSPITALIZACIÓN UPC  \n",
              "31              NaN                      0.0                       0.0  \n",
              "100             NaN                      0.0                       0.0  \n",
              "109             NaN                      0.0                       0.0  \n",
              "568             NaN                      NaN                       NaN  \n",
              "569             NaN                      NaN                       NaN  "
            ]
          },
          "execution_count": 26,
          "metadata": {},
          "output_type": "execute_result"
        }
      ],
      "source": [
        "dfhosp[dfhosp.HOSPITALIZACION.isna()]"
      ]
    },
    {
      "cell_type": "code",
      "execution_count": 57,
      "metadata": {},
      "outputs": [],
      "source": [
        "import matplotlib.pyplot as plt\n",
        "import seaborn as sns\n",
        "import numpy as np"
      ]
    },
    {
      "cell_type": "code",
      "execution_count": 78,
      "metadata": {},
      "outputs": [
        {
          "data": {
            "text/plain": [
              "HOSPITALIZACION\n",
              "NO     541\n",
              "SI      24\n",
              "NaN      5\n",
              "Name: count, dtype: int64"
            ]
          },
          "execution_count": 78,
          "metadata": {},
          "output_type": "execute_result"
        }
      ],
      "source": [
        "dfhosp.HOSPITALIZACION.value_counts(dropna=False)"
      ]
    },
    {
      "cell_type": "markdown",
      "metadata": {
        "id": "mTV2RdmbMoRE"
      },
      "source": [
        "Revisen la distribución estadística para el caso de las variables numéricas. ¿Qué gráficos permiten realizar un estudio exploratorio de la distribución? ¿Hay datos atípicos?"
      ]
    },
    {
      "cell_type": "code",
      "execution_count": null,
      "metadata": {
        "id": "ILzt6oOaM1ag"
      },
      "outputs": [],
      "source": []
    },
    {
      "cell_type": "markdown",
      "metadata": {
        "id": "zyQIaY1bM12g"
      },
      "source": [
        "Si encontraron datos atípicos, ¿Imputarán o eliminarán los valores? Sustentar."
      ]
    },
    {
      "cell_type": "code",
      "execution_count": null,
      "metadata": {
        "id": "HO3Db1YQM9JS"
      },
      "outputs": [],
      "source": []
    },
    {
      "cell_type": "markdown",
      "metadata": {
        "id": "HAZhxOMyNFON"
      },
      "source": [
        "Para las variables categóricas, realizar una visualización adecuada para observar las frecuencias de cada categoría. ¿Observa alguna anomalía, problema de formato en alguna variable?"
      ]
    },
    {
      "cell_type": "code",
      "execution_count": null,
      "metadata": {
        "id": "_GpXEa1oNQfG"
      },
      "outputs": [],
      "source": []
    },
    {
      "cell_type": "markdown",
      "metadata": {
        "id": "CmRUpq9FMcsi"
      },
      "source": [
        "Revisen la cantidad de nulos que tiene cada columna. ¿Es necesario eliminar alguna columna? ¿Se imputarán valores? En caso de imputar, explicar en cada caso, por medio de qué estrategia lo harán. "
      ]
    },
    {
      "cell_type": "code",
      "execution_count": null,
      "metadata": {
        "id": "xSSe-ZHpMmdz"
      },
      "outputs": [],
      "source": []
    },
    {
      "cell_type": "markdown",
      "metadata": {
        "id": "b_u-bC8FNTkT"
      },
      "source": [
        "Para el caso de las variables numéricas, ¿Es necesario normalizar?"
      ]
    },
    {
      "cell_type": "code",
      "execution_count": null,
      "metadata": {
        "id": "I9w7a6dXNYPz"
      },
      "outputs": [],
      "source": []
    },
    {
      "cell_type": "markdown",
      "metadata": {
        "id": "EiqnqbBuNmmW"
      },
      "source": [
        "Realice las transformaciones que considere pertinentes con el fin de preparar los datos para un modelo de clasificación de un paciente con desenlace en Hospitalización. "
      ]
    },
    {
      "cell_type": "code",
      "execution_count": null,
      "metadata": {
        "id": "m_n9Yfg0NmTP"
      },
      "outputs": [],
      "source": []
    },
    {
      "cell_type": "markdown",
      "metadata": {
        "id": "_xXX6APsNjkV"
      },
      "source": [
        "Realice una matriz de correlación con el fin de determinar si hay variables redundantes. En caso de encontrar altas correlaciones, ¿Tomará alguna acción?"
      ]
    },
    {
      "cell_type": "code",
      "execution_count": null,
      "metadata": {
        "id": "paHDdRnYN_Gl"
      },
      "outputs": [],
      "source": []
    },
    {
      "cell_type": "markdown",
      "metadata": {
        "id": "P2oE3VuBN_d6"
      },
      "source": [
        "Exporte la base de datos preparada en un archivo .csv para el modelamiento. "
      ]
    },
    {
      "cell_type": "code",
      "execution_count": null,
      "metadata": {
        "id": "SzPhC-FROFGt"
      },
      "outputs": [],
      "source": []
    }
  ],
  "metadata": {
    "colab": {
      "provenance": []
    },
    "kernelspec": {
      "display_name": "Python 3",
      "language": "python",
      "name": "python3"
    },
    "language_info": {
      "codemirror_mode": {
        "name": "ipython",
        "version": 3
      },
      "file_extension": ".py",
      "mimetype": "text/x-python",
      "name": "python",
      "nbconvert_exporter": "python",
      "pygments_lexer": "ipython3",
      "version": "3.11.6"
    },
    "orig_nbformat": 4,
    "vscode": {
      "interpreter": {
        "hash": "ae0e7af47f894f9476ada5eb18ddb08363018cc3b7dc70bce08ae16d38df8604"
      }
    }
  },
  "nbformat": 4,
  "nbformat_minor": 0
}
